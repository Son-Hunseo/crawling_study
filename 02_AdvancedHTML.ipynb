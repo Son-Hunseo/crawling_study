{
 "cells": [
  {
   "cell_type": "markdown",
   "id": "39e70094-e215-4f6e-91f5-76c126323809",
   "metadata": {},
   "source": [
    "# 고급 HTML 분석"
   ]
  },
  {
   "cell_type": "markdown",
   "id": "255be7eb-943e-47dd-be67-bcb91eed3e44",
   "metadata": {},
   "source": [
    "## 닭 잡는 데 소 잡는 칼을 쓸 필요는 없습니다."
   ]
  },
  {
   "cell_type": "markdown",
   "id": "52660806-e3d2-4014-b52a-08ab2c2a27d0",
   "metadata": {},
   "source": [
    "- 복잡한 html태그를 만났을 때 일일히 해당 태그를 들어가는 코드를 작성한다면,\n",
    "1. 간결하지 않습니다.\n",
    "2. 관리자가 사이트를 조금만 수정하더라도 웹 스크래퍼의 동작이 안될 수 있습니다."
   ]
  },
  {
   "cell_type": "markdown",
   "id": "bccbada4-340c-4dae-8eb6-159ad58807c3",
   "metadata": {},
   "source": [
    "- 대안\n",
    "1. '페이지 인쇄'와 같은 링크를 찾아보거나, 더 나은 HTML구조를 갖춘 모바일 버전 사이트 찾아보기\n",
    "2. 자바스크립트 파일에 숨겨진 정보 찾아보기\n",
    "3. 페이지 URL 살펴보기\n",
    "4. 다른 웹사이트 고려해보기"
   ]
  },
  {
   "cell_type": "markdown",
   "id": "1e793d86-b0a4-4b85-81e3-1c5cb3d62cd3",
   "metadata": {},
   "source": [
    "- 대안이 없다고 확신이 든다면, 고급 HTML 분석을 사용할 때 입니다."
   ]
  },
  {
   "cell_type": "markdown",
   "id": "4769b353-3127-4c97-acf4-f22b04c4aac5",
   "metadata": {},
   "source": [
    "## 다시 BeautifulSoup"
   ]
  },
  {
   "cell_type": "code",
   "execution_count": 1,
   "id": "3649e552-4e35-4a2c-b9f9-dab11b3a8072",
   "metadata": {},
   "outputs": [],
   "source": [
    "from urllib.request import urlopen\n",
    "from bs4 import BeautifulSoup"
   ]
  },
  {
   "cell_type": "code",
   "execution_count": 2,
   "id": "1d20fb77-0ffc-4a42-a7b3-c5d93590b486",
   "metadata": {},
   "outputs": [],
   "source": [
    "html = urlopen('http://www.pythonscraping.com/pages/warandpeace.html')\n",
    "bs = BeautifulSoup(html, 'html.parser')"
   ]
  },
  {
   "cell_type": "markdown",
   "id": "8b3e3113-83bd-4b9a-a018-143a4682f629",
   "metadata": {},
   "source": [
    "- 해당 페이지는 등장인물이 말하는 대사는 빨간색, 등장인물의 이름은 녹색이다.\n",
    "\n",
    "```html\n",
    "<span class=\"red\">Heavens! what a virulent attack!</span>\n",
    "replied <span class=\"green\">the prince</span>, not in the least disconcerted by this reception.\n",
    "```"
   ]
  },
  {
   "cell_type": "code",
   "execution_count": 3,
   "id": "0a53ebc9-d085-4c40-98cf-6441d17cf3ed",
   "metadata": {},
   "outputs": [
    {
     "name": "stdout",
     "output_type": "stream",
     "text": [
      "Anna\n",
      "Pavlovna Scherer\n",
      "Empress Marya\n",
      "Fedorovna\n",
      "Prince Vasili Kuragin\n",
      "Anna Pavlovna\n",
      "St. Petersburg\n",
      "the prince\n",
      "Anna Pavlovna\n",
      "Anna Pavlovna\n",
      "the prince\n",
      "the prince\n",
      "the prince\n",
      "Prince Vasili\n",
      "Anna Pavlovna\n",
      "Anna Pavlovna\n",
      "the prince\n",
      "Wintzingerode\n",
      "King of Prussia\n",
      "le Vicomte de Mortemart\n",
      "Montmorencys\n",
      "Rohans\n",
      "Abbe Morio\n",
      "the Emperor\n",
      "the prince\n",
      "Prince Vasili\n",
      "Dowager Empress Marya Fedorovna\n",
      "the baron\n",
      "Anna Pavlovna\n",
      "the Empress\n",
      "the Empress\n",
      "Anna Pavlovna's\n",
      "Her Majesty\n",
      "Baron\n",
      "Funke\n",
      "The prince\n",
      "Anna\n",
      "Pavlovna\n",
      "the Empress\n",
      "The prince\n",
      "Anatole\n",
      "the prince\n",
      "The prince\n",
      "Anna\n",
      "Pavlovna\n",
      "Anna Pavlovna\n"
     ]
    }
   ],
   "source": [
    "nameList = bs.findAll('span', {'class': 'green'})\n",
    "for name in nameList:\n",
    "    print(name.get_text())"
   ]
  },
  {
   "cell_type": "markdown",
   "id": "13923e05-99f4-40e4-b0ac-25cce729d876",
   "metadata": {},
   "source": []
  },
  {
   "cell_type": "code",
   "execution_count": null,
   "id": "08d87d0d-9c64-4225-a9e9-421947514b2a",
   "metadata": {},
   "outputs": [],
   "source": []
  }
 ],
 "metadata": {
  "kernelspec": {
   "display_name": "Python 3 (ipykernel)",
   "language": "python",
   "name": "python3"
  },
  "language_info": {
   "codemirror_mode": {
    "name": "ipython",
    "version": 3
   },
   "file_extension": ".py",
   "mimetype": "text/x-python",
   "name": "python",
   "nbconvert_exporter": "python",
   "pygments_lexer": "ipython3",
   "version": "3.9.13"
  },
  "toc-showmarkdowntxt": false
 },
 "nbformat": 4,
 "nbformat_minor": 5
}
